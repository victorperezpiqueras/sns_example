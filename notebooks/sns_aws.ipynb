{
 "cells": [
  {
   "cell_type": "markdown",
   "id": "environmental-curve",
   "metadata": {},
   "source": [
    "<a id=\"inicio\"></a>\n",
    "<br><br><br>\n",
    "<h2><font color=\"#B51700\" size=6>Simple Notification Service (SNS)</font></h2>\n",
    "\n",
    "\n",
    "\n",
    "<h1><font size=4>Demostración</font></h1>\n",
    "\n",
    "<br><br>\n",
    "<div style=\"text-align: right\">\n",
    "<font color=\"#5E5E5E\" size=3>Carolina Ordoño López</font><br>\n",
    "<font color=\"#5E5E5E\" size=3>Víctor Pérez Piqueras</font><br>\n",
    "    <br>\n",
    "<font color=\"#5E5E5E\" size=3>Planificación y Gestión de Infraestructuras TIC</font><br>\n",
    "<font color=\"#5E5E5E\" size=3>Máster Universitario en Ingeniería Informática </font> - <font color=\"#B51700\" size=3><b>UCLM</b></font>\n",
    "\n",
    "</div>\n",
    "\n",
    "---\n",
    "\n",
    "En este notebook se realizan demostraciones en python de cómo utilizar algunas de las funcionalidades que nos ofrece el Servicio de Notificaciones Push (SNS) de Amazon Web Services (AWS)."
   ]
  },
  {
   "cell_type": "markdown",
   "id": "arbitrary-plant",
   "metadata": {},
   "source": [
    "<a id=\"indice\"></a>\n",
    "<h2><font color=\"#990033\" size=5>Índice</font></h2>\n",
    "\n",
    "* [1. Introdución SNS](#section1)\n",
    "  * [1.1. Beneficios](#section1-1)\n",
    "* [2. Funcionamiento SNS](#section2)\n",
    "  * [2.1. Publicación/suscripción](#section2-1)\n",
    "  * [2.2. SMS](#section2-2)\n",
    "* [3. Demostración SNS](#section3)\n",
    "  * [3.1. Configuración de credenciales](#section3-1)\n",
    "  * [3.2. Topics: listado, creación y borrado](#section3-2)\n",
    "  * [3.3. Suscripciones: listado, creación y borrado](#section3-3)\n",
    "  * [3.4. Publicación en topics](#section3-4)\n",
    "\n",
    "\n",
    "---"
   ]
  },
  {
   "cell_type": "markdown",
   "id": "facial-magazine",
   "metadata": {},
   "source": [
    "<div style=\"text-align: right\">\n",
    "<a href=\"#inicio\"><font size=5><i class=\"fa fa-arrow-circle-up\" aria-hidden=\"true\" style=\"color:#B51700\"></i></font></a>\n",
    "</div>\n",
    "\n",
    "---\n",
    "\n",
    "<a id=\"section1\"></a>\n",
    "\n",
    "## <font color=\"#B51700\" size=5>1.</font> <font size=5 color=\"#5E5E5E\">Introdución SNS</font>\n",
    "\n",
    "\n",
    "[Amazon Simple Notification Service (Amazon SNS)](https://aws.amazon.com/es/sns) es un servicio de mensajería completamente administrado para la comunicación aplicación a aplicación (A2A) y aplicación a persona (A2P).\n",
    "\n",
    "La funcionalidad de publicación/suscripción A2A brinda temas para la mensajería de alto rendimiento, de muchos a muchos, basada en push entre sistemas distribuidos, microservicios y aplicaciones sin servidores controladas por eventos. Mediante el uso de temas de Amazon SNS, los sistemas de publicadores pueden distribuir los mensajes a una gran cantidad de sistemas de suscriptores, entre otros, colas de Amazon SQS, funciones de AWS Lambda y puntos de enlace HTTPS, para procesamiento paralelo y Amazon Kinesis Data Firehose. La funcionalidad A2P permite que envíe mensajes a usuarios a escala a través de SMS, push móviles y correo electrónico.\n"
   ]
  },
  {
   "cell_type": "markdown",
   "id": "informative-packaging",
   "metadata": {},
   "source": [
    "<a id=\"section1-1\"></a>\n",
    "## <font color=\"#B51700\" size=4>1.1.</font> <font size=4 color=\"#5E5E5E\">Beneficios</font>\n",
    "\n",
    "* __Modernizar y desacoplar aplicaciones__ utilizando una arquitetura basada en eventos de mensajería publicación/suscripción, mejorando el rendimiento, fiabilidad y permitiendo escalar cada componente de forma independiente.\n",
    "* __Enviar mensajes directamente a millones de usuarios__ mediante un único punto de enlace a todas las plataformas (SMS, notificaciones push o correo electrónico).\n",
    "* __Entregar mensajes de manera fiable__ usando estrategias que funcionan en forma conjunta para ofrecer durabilidad de mensajes. Los mensajes publicados se almacenan en varios servidores y centros de datos separados geográficamente. Para preservar los mensajes no entregados es posible crear una cola de mensajes fallidos.\n",
    "* __Escalar automáticamente la carga de trabajo__ al ser totalmente administrado y encargarse de los trabajos pesados relacionados con la planificación de la capacidad, aprovisionamiento, supervisión y aplicación de parches.\n",
    "* __Simplificar la arquitectura con el filtrado de mensajes__ mediante la descarga de la lógica de filtrado de mensajes de los sistemas de suscriptores y de la lógica de enrutamiento de mensajes de los sistemas de publicadores.\n"
   ]
  },
  {
   "cell_type": "markdown",
   "id": "behavioral-majority",
   "metadata": {},
   "source": [
    "---\n",
    "\n",
    "<a id=\"section2\"></a>\n",
    "\n",
    "## <font color=\"#B51700\" size=5>2.</font> <font size=5 color=\"#5E5E5E\">Funcionamiento SNS</font>\n",
    "\n",
    "<div style=\"text-align: right\">\n",
    "<a href=\"#inicio\"><font size=5><i class=\"fa fa-arrow-circle-up\" aria-hidden=\"true\" style=\"color:#B51700\"></i></font></a>\n",
    "</div>"
   ]
  },
  {
   "cell_type": "markdown",
   "id": "abroad-demographic",
   "metadata": {},
   "source": [
    "<a id=\"section2-1\"></a>\n",
    "## <font color=\"#B51700\" size=4>2.1.</font> <font size=4 color=\"#5E5E5E\">PUBLICACIÓN/SUSCRIPCIÓN</font>\n",
    "<br>\n",
    "\n",
    "\n",
    "<img src=https://d1.awsstatic.com/diagrams/Product-page-diagram-Amazon-SNS_event-driven-SNS-compute%402X_.4b9c0a75aa40bda9cdb12f0176930a12da2872bf.png>"
   ]
  },
  {
   "cell_type": "markdown",
   "id": "peripheral-seminar",
   "metadata": {},
   "source": [
    "<div style=\"text-align: right\">\n",
    "<a href=\"#inicio\"><font size=5><i class=\"fa fa-arrow-circle-up\" aria-hidden=\"true\" style=\"color:#B51700\"></i></font></a>\n",
    "</div>\n",
    "\n",
    "---\n",
    "\n",
    "<a id=\"section2-2\"></a>\n",
    "## <font color=\"#B51700\" size=4>2.2.</font> <font size=4 color=\"#5E5E5E\">SMS</font>\n",
    "<br>\n",
    "\n",
    "\n",
    "<img src=https://d1.awsstatic.com/product-marketing/SNS/Product-Page-Diagram_Amazon-SNS_2-SMS-How-it-works%401.5x.4c649e5fe667e525de01e8c88024d782d8a25ccf.png>"
   ]
  },
  {
   "cell_type": "markdown",
   "id": "soviet-participant",
   "metadata": {},
   "source": [
    "\n"
   ]
  },
  {
   "cell_type": "markdown",
   "id": "spoken-sister",
   "metadata": {},
   "source": [
    "<div style=\"text-align: right\">\n",
    "<a href=\"#inicio\"><font size=5><i class=\"fa fa-arrow-circle-up\" aria-hidden=\"true\" style=\"color:#B51700\"></i></font></a>\n",
    "</div>\n",
    "\n",
    "---\n",
    "\n",
    "<a id=\"section3\"></a>\n",
    "\n",
    "## <font color=\"#B51700\" size=5>3.</font> <font size=5 color=\"#5E5E5E\">Demostración SNS</font>\n",
    "\n",
    "<br><br>\n",
    "Primeramente, es necesario instalar la librería boto3 en caso de que no la tengamos.\n",
    "Boto3 es una librería de python para facilitar la integración con los servicios de AWS (Amazon Web Services), permitiendo crear, manejar y configurar servicios de AWS, entre ellos SNS."
   ]
  },
  {
   "cell_type": "code",
   "execution_count": null,
   "id": "narrative-contract",
   "metadata": {},
   "outputs": [],
   "source": [
    "!pip install boto3"
   ]
  },
  {
   "cell_type": "markdown",
   "id": "neither-classic",
   "metadata": {},
   "source": [
    "\n",
    "<a id=\"section3-1\"></a>\n",
    "## <font color=\"#B51700\" size=4>3.1.</font> <font size=4 color=\"#5E5E5E\">Configuración de credenciales</font>\n",
    "<br>\n",
    "\n",
    "- Desde nuestra cuenta de AWS Educate, pulsamos en: Account details.\n",
    "- Creamos una carpeta en nuestra carpeta de usuario con nombre `.aws` y dentro creamos un fichero de texto con nombre `credentials` (sin extensión).\n",
    "- Pegamos en el fichero el contenido del cuadro de texto que aparece bajo AWS CLI y lo guardamos.\n",
    "\n",
    "Otra opción es incluir en la celda de debajo nuestros respectivos parámetros de credenciales"
   ]
  },
  {
   "cell_type": "code",
   "execution_count": null,
   "id": "adapted-citation",
   "metadata": {},
   "outputs": [],
   "source": [
    "ACCESS_KEY=\"XX\"\n",
    "SECRET_KEY=\"XX\"\n",
    "SESSION_TOKEN=\"XX\""
   ]
  },
  {
   "cell_type": "markdown",
   "id": "legislative-native",
   "metadata": {},
   "source": [
    "Importamos la librería `boto3`.<br>\n",
    "\n",
    "Para acceder a cualquier servicio de AWS con Boto3, es necesario conectarlo con un cliente. A continuación, se crea el cliente SNS, especificando la región en la que nuestros mensajes serán almacenados.<br>\n",
    "\n",
    "Además, es necesario pasarle la clave de acceso y la password que hemos obtenido previamente en sus correspondientes variables mediante la consola AWS."
   ]
  },
  {
   "cell_type": "code",
   "execution_count": null,
   "id": "structured-mailman",
   "metadata": {},
   "outputs": [],
   "source": [
    "import boto3\n",
    "sns = boto3.client(\"sns\",region_name=\"us-east-1\",\n",
    "                  aws_access_key_id=ACCESS_KEY,\n",
    "                    aws_secret_access_key=SECRET_KEY,\n",
    "                    aws_session_token=SESSION_TOKEN\n",
    "                  )"
   ]
  },
  {
   "cell_type": "markdown",
   "id": "choice-relay",
   "metadata": {},
   "source": [
    "\n",
    "---\n",
    "<a id=\"section3-2\"></a>\n",
    "## <font color=\"#B51700\" size=4>3.2.</font> <font size=4 color=\"#5E5E5E\">Topics: listado, creación y borrado</font>\n",
    "<br>\n"
   ]
  },
  {
   "cell_type": "markdown",
   "id": "vulnerable-converter",
   "metadata": {},
   "source": [
    "Para crear un nuevo topic se utiliza la función `create_topic`, en la que es necesario pasar el nombre que le queremos dar al topic.\n",
    "\n",
    "Una vez que el topic es creado, podemos obtener su ARN extrayendo la clave de `TopicArn` del objeto que devuelve `create_topic`."
   ]
  },
  {
   "cell_type": "code",
   "execution_count": null,
   "id": "comic-prayer",
   "metadata": {},
   "outputs": [],
   "source": [
    "# create topic\n",
    "response = sns.create_topic(Name=\"prueba\")\n",
    "topic_arn = response[\"TopicArn\"]\n",
    "print(response)"
   ]
  },
  {
   "cell_type": "markdown",
   "id": "desirable-paragraph",
   "metadata": {},
   "source": [
    "Para listar los topics que tenemos en AWS, podemos utilizar la función `list-topics` y extraer la clave `Topics` de su salida."
   ]
  },
  {
   "cell_type": "code",
   "execution_count": null,
   "id": "opening-madonna",
   "metadata": {},
   "outputs": [],
   "source": [
    "# List topics\n",
    "response = sns.list_topics()\n",
    "topics = response[\"Topics\"]\n",
    "print(topics)"
   ]
  },
  {
   "cell_type": "markdown",
   "id": "regulated-glenn",
   "metadata": {},
   "source": [
    "Para borrar un topic basta con pasarle el ARN del que queremos eliminar a la función `delete_topic`."
   ]
  },
  {
   "cell_type": "code",
   "execution_count": null,
   "id": "legendary-denial",
   "metadata": {},
   "outputs": [],
   "source": [
    "# Delete topics\n",
    "response = sns.delete_topic(TopicArn=topic_arn)\n",
    "print(response)"
   ]
  },
  {
   "cell_type": "markdown",
   "id": "solved-hacker",
   "metadata": {},
   "source": [
    "\n",
    "---\n",
    "<a id=\"section3-3\"></a>\n",
    "## <font color=\"#B51700\" size=4>3.3.</font> <font size=4 color=\"#5E5E5E\">Suscripciones: listado, creación y borrado</font>\n",
    "<br>"
   ]
  },
  {
   "cell_type": "markdown",
   "id": "intelligent-garbage",
   "metadata": {},
   "source": [
    "Para crear una nueva suscripción a un topic es necesario llamar a la función `subscribe`, pasándole el ARN del topic al que se quiere realizar la suscripción, el protocolo (SMS o email) y el endpoint (como puede ser el número de móvil o la dirección de correo).\n",
    "\n",
    "Una vez que la suscripción ha sido creada, podemos obtener su ARN extrayendo la clave `SubscriptionArn` de la respuesta del `subscribe`."
   ]
  },
  {
   "cell_type": "code",
   "execution_count": null,
   "id": "thousand-corruption",
   "metadata": {},
   "outputs": [],
   "source": [
    "# Create email subscription\n",
    "response = sns.subscribe(TopicArn=topic_arn, Protocol=\"email\", Endpoint=\"email@email.com\")\n",
    "subscription_arn = response[\"SubscriptionArn\"]\n",
    "print(subscription_arn)"
   ]
  },
  {
   "cell_type": "code",
   "execution_count": null,
   "id": "frozen-polymer",
   "metadata": {},
   "outputs": [],
   "source": [
    "# Create SMS subscription \n",
    "response = sns.subscribe(TopicArn=topic_arn, Protocol=\"SMS\", Endpoint=\"+00000000000\")\n",
    "subscription_arn = response[\"SubscriptionArn\"]\n",
    "print(subscription_arn)"
   ]
  },
  {
   "cell_type": "markdown",
   "id": "equipped-intensity",
   "metadata": {},
   "source": [
    "Para listar todas las suscripciones que tenemos en AWS, es posible usar la función `list_subscriptions` y extraer así la clave `Subscriptions` de su salida."
   ]
  },
  {
   "cell_type": "code",
   "execution_count": null,
   "id": "rational-village",
   "metadata": {},
   "outputs": [],
   "source": [
    "import pprint\n",
    "pp = pprint.PrettyPrinter(indent=4)\n",
    "# List all subscriptions\n",
    "response = sns.list_subscriptions()\n",
    "subscriptions = response[\"Subscriptions\"]\n",
    "pp.pprint(subscriptions)"
   ]
  },
  {
   "cell_type": "markdown",
   "id": "growing-behavior",
   "metadata": {},
   "source": [
    "De manera similar, es posible listar las suscripciones de un topic específico llamando a la función `list_subscriptions_by_topic`."
   ]
  },
  {
   "cell_type": "code",
   "execution_count": null,
   "id": "sharp-sailing",
   "metadata": {},
   "outputs": [],
   "source": [
    "# List subscriptions by topic\n",
    "response = sns.list_subscriptions_by_topic(TopicArn=topic_arn)\n",
    "subscriptions = response[\"Subscriptions\"]\n",
    "pp.pprint(subscriptions)"
   ]
  },
  {
   "cell_type": "markdown",
   "id": "occupied-commonwealth",
   "metadata": {},
   "source": [
    "Para borrar una única suscripción, es necesario pasar su ARN a la función `unsubscribe`.\n"
   ]
  },
  {
   "cell_type": "code",
   "execution_count": null,
   "id": "future-understanding",
   "metadata": {},
   "outputs": [],
   "source": [
    "# Delete subscription\n",
    "response = sns.unsubscribe(SubscriptionArn=subscription_arn)\n",
    "print(response)"
   ]
  },
  {
   "cell_type": "markdown",
   "id": "occupied-consciousness",
   "metadata": {},
   "source": [
    "\n",
    "Si se desean eliminar múltiples suscripciones (por ejemplo todas las que tengan el mismo protocolo), podemos realizar un bucle for entre ellas."
   ]
  },
  {
   "cell_type": "code",
   "execution_count": null,
   "id": "moral-updating",
   "metadata": {},
   "outputs": [],
   "source": [
    "# Delete multiple subscriptions (here: all SMS ones)\n",
    "for sub in subscriptions:\n",
    "    if sub[\"Protocol\"] == \"sms\":\n",
    "        sns.unsubscribe(sub[\"SubscriptionArn\"])"
   ]
  },
  {
   "cell_type": "markdown",
   "id": "guided-eligibility",
   "metadata": {},
   "source": [
    "\n",
    "---\n",
    "<a id=\"section3-4\"></a>\n",
    "## <font color=\"#B51700\" size=4>3.4.</font> <font size=4 color=\"#5E5E5E\">Publicación en topics</font>\n",
    "<br>"
   ]
  },
  {
   "cell_type": "markdown",
   "id": "formed-porter",
   "metadata": {},
   "source": [
    "Para publicar un mensaje en un topic, se llama a la función `publish`, pasándole el ARN del topic, el mensaje deseado y un subject opcional (para los mensajes de correo electrónico).\n"
   ]
  },
  {
   "cell_type": "code",
   "execution_count": null,
   "id": "lyric-workplace",
   "metadata": {},
   "outputs": [],
   "source": [
    "# Publish to topic\n",
    "sns.publish(TopicArn=topic_arn, \n",
    "            Message=\"Mensaje de prueba\", \n",
    "            Subject=\"subject de prueba\")"
   ]
  },
  {
   "cell_type": "markdown",
   "id": "municipal-humanity",
   "metadata": {},
   "source": [
    "\n",
    "Alternativamente, es posible publicar un mensaje SMS sin necesidad de un topic o suscripción. Para ello, es necesario llamar a la función `publish` con el número de teléfono y un mensaje de texto como parámetros."
   ]
  },
  {
   "cell_type": "code",
   "execution_count": null,
   "id": "fossil-algeria",
   "metadata": {},
   "outputs": [],
   "source": [
    "sns.publish(PhoneNumber=\"+00000000000\", \n",
    "            Message=\"message text\",\n",
    "            MessageAttributes={'AWS.SNS.SMS.SMSType': {'DataType': 'String', 'StringValue': 'Transactional'}})"
   ]
  },
  {
   "cell_type": "code",
   "execution_count": null,
   "id": "former-drive",
   "metadata": {},
   "outputs": [],
   "source": [
    "sns.set_sms_attributes(\n",
    "    attributes={\n",
    "        \"MonthlySpendLimit\": \"1, \n",
    "        \"DefaultSenderID\": \"UseANameHere\",\n",
    "        \"DefaultSMSType\": \"Transactional\" \n",
    "    }\n",
    ")"
   ]
  }
 ],
 "metadata": {
  "kernelspec": {
   "display_name": "Python 3",
   "language": "python",
   "name": "python3"
  },
  "language_info": {
   "codemirror_mode": {
    "name": "ipython",
    "version": 3
   },
   "file_extension": ".py",
   "mimetype": "text/x-python",
   "name": "python",
   "nbconvert_exporter": "python",
   "pygments_lexer": "ipython3",
   "version": "3.8.0"
  }
 },
 "nbformat": 4,
 "nbformat_minor": 5
}
